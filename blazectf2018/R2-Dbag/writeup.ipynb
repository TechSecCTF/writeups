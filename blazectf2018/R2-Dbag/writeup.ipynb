{
 "cells": [
  {
   "cell_type": "code",
   "execution_count": 1,
   "metadata": {},
   "outputs": [],
   "source": [
    "import warnings\n",
    "warnings.filterwarnings('ignore')"
   ]
  },
  {
   "cell_type": "markdown",
   "metadata": {},
   "source": [
    "# GongFou\n",
    "\n",
    "We first discuss GongFou,\n",
    "which was an easier version of R2-Dbag.\n",
    "This solution is due to fortenforge.\n",
    "\n",
    "In GongFou, you are given a wav file in which the flag is stenographically concealed.\n",
    "Looking at the wav file in Audacity,\n",
    "we note that it seems to come in windows of 1024 samples:\n",
    "![title](res/aud0.png)\n",
    "\n",
    "Looking at a spectrogram view of the audio with a window size of 1024,\n",
    "we get:\n",
    "![title](res/aud1.png)\n",
    "\n",
    "We note the spectrogram is blocked off nicely into columns,\n",
    "and that the columns share some common binary structure.\n",
    "If we interpret high intensities (white) as 1s\n",
    "and low intensities (gray) as 0s,\n",
    "we get an 9 by 51 array of bits.\n",
    "Ignoring the leftmost column, rightmost column,\n",
    "and bottom row yields a 8 by 49 array of bits.\n",
    "If we interpret each column of this cropped array as a byte\n",
    "(with the most significant bit on top)\n",
    "and convert (fortenforge did this manually) the bytes to characters,\n",
    "we get:\n",
    "```python\n",
    "\"TH3 FL4G IS: blaze{I_[4N_H4Z_FUN_W1TH_F0UR13R!:>}\"\n",
    "```"
   ]
  },
  {
   "cell_type": "markdown",
   "metadata": {},
   "source": [
    "# R2-DBag\n",
    "\n",
    "Fortenforge and ed1d1a8d worked on this together.\n",
    "\n",
    "The problem statement is as follows:\n",
    "\n",
    ">R2-Dbag is listening to what you're telling him and is willing to do what you're asking.\n",
    "\n",
    ">Note: this challenge is the follow up of GongFou, which should be solved first.\n",
    "\n",
    ">Note 2: This challenge was tested on Ubuntu 16.04 and works fine. It seems there are problems with some versions of nc though. Try option -q 1 (which fixes the problem in Debian or Kali, that use /bin/nc.traditional).\n",
    "\n",
    ">`nc r2dbag.420blaze.in 420`\n",
    "\n",
    "Our team had a hunch that this problem involved\n",
    "communicating with the server using wav files encoded\n",
    "like in GongFou.\n",
    "We attempted to verify this hunch by sending the wav file from GongFou\n",
    "to the server as seeing what happens.\n",
    "However, doing this using netcat on MacOS resulted in no response,\n",
    "which caused us quite a bit of confusion.\n",
    "We then decided to take Note 2 more seriously\n",
    "and attempt to netcat on Ubuntu.\n",
    "Lo and behold we got a response back telling us that\n",
    "`TH3` was not a valid command type and that the server\n",
    "expected something starting with `EXEC`.\n",
    "\n",
    "At this point we worked on building a encoder that would encode a string into a wav.\n",
    "This was our result:"
   ]
  },
  {
   "cell_type": "code",
   "execution_count": 2,
   "metadata": {},
   "outputs": [],
   "source": [
    "# Much credit to https://stackoverflow.com/a/33913403\n",
    "import wave\n",
    "import struct\n",
    "import numpy as np\n",
    "\n",
    "audio = []\n",
    "sample_rate = 32768.0\n",
    "\n",
    "def get_binary(c):\n",
    "    \"\"\"takes char c\"\"\"\n",
    "    return bin(ord(c))[2:].zfill(8)\n",
    "\n",
    "def append_sinewave(data, num_samples=1024):\n",
    "    \"\"\"data is a string of '0's and '1's \"\"\"\n",
    "    data += \"1\" # 4.1kHz is always set\n",
    "    global audio\n",
    "\n",
    "    pad = 64\n",
    "    volume = 0.95 / data.count('1') * np.concatenate((np.linspace(0, 1, num_samples / 2 - pad),\n",
    "                                                      np.linspace(1, 0, num_samples / 2 - pad)))\n",
    "    volume = np.concatenate((np.zeros(pad), volume, np.zeros(pad)))\n",
    "    for x in range(int(num_samples)):\n",
    "        cur = 0\n",
    "        for idx, f in enumerate(1000 * np.linspace(6.15, 4.1, 9)):\n",
    "            if data[idx] == '1':\n",
    "                cur += np.sin(2 * np.pi * f * ( x / sample_rate ))\n",
    "        audio.append(volume[x] * cur)\n",
    "\n",
    "message = \"EXEC ls\"\n",
    "append_sinewave(8 * \"1\")\n",
    "for c in message:\n",
    "    append_sinewave(get_binary(c))\n",
    "append_sinewave(8 * \"1\")\n",
    "\n",
    "def save_wav(file_name):\n",
    "    wav_file=wave.open(file_name,\"w\")\n",
    "\n",
    "    nchannels = 1\n",
    "    sampwidth = 2\n",
    "\n",
    "    nframes = len(audio)\n",
    "    comptype = \"NONE\"\n",
    "    compname = \"not compressed\"\n",
    "    wav_file.setparams((nchannels, sampwidth, sample_rate, nframes, comptype, compname))\n",
    "\n",
    "    for sample in audio:\n",
    "        wav_file.writeframes(struct.pack('h', int( sample * 32767.0 )))\n",
    "\n",
    "    wav_file.close()\n",
    "    return\n",
    "\n",
    "save_wav(\"command.wav\")"
   ]
  },
  {
   "cell_type": "markdown",
   "metadata": {},
   "source": [
    "The core functionality is in the `append_sinewave` function,\n",
    "which appends a byte of data across 1024 samples.\n",
    "The audio array is simply an array of amplitudes,\n",
    "and encoding a byte as amplitudes consists\n",
    "of adding together sin-waves corresponding to each set bit,\n",
    "which frequencies given by `1000 * np.linspace(6.15, 4.1, 9)`.\n",
    "This sum was then scaled linearly from 0 amplitude (or volume)\n",
    "at the start of the window to 0.95 amplitude at the center,\n",
    "and then back to 0 at the end of the amplitude.\n",
    "50 samples of silence were also appended to each end of the window.\n",
    "This scaling and silence was needed\n",
    "in order to make the produced spectrogram cleaner.\n",
    "\n",
    "The code above generates the command for ls.\n",
    "Upon sending it to the server,\n",
    "we got a wav file in response.\n",
    "Thus we set out working on a decoder.\n",
    "\n",
    "To compute spectrograms,\n",
    "we used the audio library librosa.\n",
    "We then set out trying to decode R2-Dbag_to_C3POed.wav\n",
    "(which we already knew the output for)\n",
    "programmatically.\n",
    "\n",
    "We began by generating the spectrogram:"
   ]
  },
  {
   "cell_type": "code",
   "execution_count": 3,
   "metadata": {},
   "outputs": [
    {
     "name": "stdout",
     "output_type": "stream",
     "text": [
      "(513, 51)\n"
     ]
    },
    {
     "data": {
      "image/png": "[encoded data removed]",
      "text/plain": [
       "<matplotlib.figure.Figure at 0x103906860>"
      ]
     },
     "metadata": {},
     "output_type": "display_data"
    }
   ],
   "source": [
    "%matplotlib inline\n",
    "import librosa\n",
    "from librosa import display\n",
    "import numpy as np\n",
    "import matplotlib.pyplot as plt\n",
    "\n",
    "y, sr = librosa.load(\"res/R2-Dbag_to_C3POed.wav\", sr = 32768)\n",
    "stft = librosa.stft(y, n_fft=1024, hop_length=1024, center=False)\n",
    "spec = librosa.amplitude_to_db(stft, ref=np.max)\n",
    "print(spec.shape)\n",
    "librosa.display.specshow(spec, y_axis='linear', x_axis='time', sr=sr);"
   ]
  },
  {
   "cell_type": "markdown",
   "metadata": {},
   "source": [
    "Next, we had to figure out which rows in the `spec` array corresponded to our desired frequencies.\n",
    "Plotting the first column of `spec`, which we know is all 1s,\n",
    "we got:"
   ]
  },
  {
   "cell_type": "code",
   "execution_count": 4,
   "metadata": {},
   "outputs": [
    {
     "data": {
      "image/png": "[encoded data removed]",
      "text/plain": [
       "<matplotlib.figure.Figure at 0x1038ea668>"
      ]
     },
     "metadata": {},
     "output_type": "display_data"
    }
   ],
   "source": [
    "plt.plot(spec[:,0]);"
   ]
  },
  {
   "cell_type": "markdown",
   "metadata": {},
   "source": [
    "We then obtained the location of the peaks like this:"
   ]
  },
  {
   "cell_type": "code",
   "execution_count": 5,
   "metadata": {},
   "outputs": [
    {
     "name": "stdout",
     "output_type": "stream",
     "text": [
      "[128, 136, 144, 152, 160, 168, 176, 184, 192]\n"
     ]
    }
   ],
   "source": [
    "locs = []\n",
    "for idx, val in enumerate(spec[:,0]):\n",
    "    if val > -15:\n",
    "        locs += [idx]\n",
    "print(locs)"
   ]
  },
  {
   "cell_type": "markdown",
   "metadata": {},
   "source": [
    "Decoding was now easy:"
   ]
  },
  {
   "cell_type": "code",
   "execution_count": 6,
   "metadata": {},
   "outputs": [
    {
     "name": "stdout",
     "output_type": "stream",
     "text": [
      "ÿTH3 FL4G IS: blaze{I_[4N_H4Z_FUN_W1TH_F0UR13R!:>}ÿ\n"
     ]
    }
   ],
   "source": [
    "def get_chr(data):\n",
    "    \"\"\"data is an array of 0s and 1s\"\"\"\n",
    "    return chr(int(''.join(data), 2))\n",
    "\n",
    "locs = [136, 144, 152, 160, 168, 176, 184, 192][::-1]\n",
    "res = \"\"\n",
    "for col in range(spec.shape[1]):\n",
    "    cur = spec[:, col]\n",
    "    targets = cur[locs]\n",
    "    data = 8 * [\"0\"]\n",
    "    for i in range(8):\n",
    "        if cur[locs[i]] > -30:\n",
    "            data[i] = \"1\"\n",
    "    c = get_chr(data)\n",
    "    res += c\n",
    "\n",
    "print(res)"
   ]
  },
  {
   "cell_type": "markdown",
   "metadata": {},
   "source": [
    "With our encoder and encoder written,\n",
    "we could now interact with the server.\n",
    "\n",
    "Running `ls` we got the output:\n",
    "```\n",
    "R2-Dbag.py\n",
    "boot\n",
    "dev\n",
    "etc\n",
    "home\n",
    "lib\n",
    "lib64\n",
    "lib_sound_R2_Dbag.py\n",
    "<snip>\n",
    "```\n",
    "where `<snip>` indicated that the server had truncated the output.\n",
    "\n",
    "Searching around,\n",
    "we stumbled upon the directory `home/r2dbag/`,\n",
    "which contained the files\n",
    "```\n",
    "flag1.txt\n",
    "flag2.txt\n",
    "flag3.txt\n",
    "flag4.txt\n",
    "flag5.txt\n",
    "flag6.txt\n",
    "<snip>\n",
    "```\n",
    "Running `cat home/r2dbag/flag1.txt` yielded the text `fake`,\n",
    "which meant the task now was to find the real flag.\n",
    "\n",
    "Greping this directory for the `{` character,\n",
    "we arrived at the file `home/r2dbag/r2-dflag_is_here.txt`.\n",
    "`cat`ing this file produced the flag:\n",
    "```\n",
    "blaze{Sp34kinG_R2-Dbag_LanGuaG3_fLu3nTlY}\n",
    "```"
   ]
  }
 ],
 "metadata": {
  "kernelspec": {
   "display_name": "Python 3",
   "language": "python",
   "name": "python3"
  },
  "language_info": {
   "codemirror_mode": {
    "name": "ipython",
    "version": 3
   },
   "file_extension": ".py",
   "mimetype": "text/x-python",
   "name": "python",
   "nbconvert_exporter": "python",
   "pygments_lexer": "ipython3",
   "version": "3.6.5"
  }
 },
 "nbformat": 4,
 "nbformat_minor": 2
}
